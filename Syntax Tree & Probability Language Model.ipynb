{
 "cells": [
  {
   "cell_type": "markdown",
   "metadata": {},
   "source": [
    "# 1.商业上真正在用的，都是Domain Specific"
   ]
  },
  {
   "cell_type": "markdown",
   "metadata": {},
   "source": [
    "# 2.AI已经解决了很多重复大量的劳动"
   ]
  },
  {
   "cell_type": "markdown",
   "metadata": {},
   "source": [
    "# 3.一个真正的AI程序：\n",
    "   结合了很多方法，有一些简单，有一些复杂\n",
    "   简单的方法主导+部分复杂的方法"
   ]
  },
  {
   "cell_type": "markdown",
   "metadata": {},
   "source": [
    "# 罗姆剃刀原理"
   ]
  },
  {
   "cell_type": "markdown",
   "metadata": {},
   "source": [
    "# Pattern Based"
   ]
  },
  {
   "cell_type": "code",
   "execution_count": 14,
   "metadata": {},
   "outputs": [],
   "source": [
    "hello_to_someone = '''\n",
    "say_hello = name hello\n",
    "name = Jhon | Mike |老梁\n",
    "hello = 你好 | 您来啦 | 快请进\n",
    "'''"
   ]
  },
  {
   "cell_type": "code",
   "execution_count": 15,
   "metadata": {},
   "outputs": [],
   "source": [
    "import random"
   ]
  },
  {
   "cell_type": "code",
   "execution_count": 16,
   "metadata": {},
   "outputs": [],
   "source": [
    "def name():\n",
    "    return random.choice('Jhon | Mike | 老梁'.split('|'))"
   ]
  },
  {
   "cell_type": "code",
   "execution_count": 17,
   "metadata": {},
   "outputs": [],
   "source": [
    "def hello():\n",
    "    return random.choice('你好 | 您来啦 | 快请进'.split('|'))"
   ]
  },
  {
   "cell_type": "code",
   "execution_count": 18,
   "metadata": {},
   "outputs": [],
   "source": [
    "def say_hello():\n",
    "    return name() + ' ' + hello()"
   ]
  },
  {
   "cell_type": "code",
   "execution_count": 19,
   "metadata": {},
   "outputs": [
    {
     "data": {
      "text/plain": [
       "' Mike   您来啦 '"
      ]
     },
     "execution_count": 19,
     "metadata": {},
     "output_type": "execute_result"
    }
   ],
   "source": [
    "say_hello() "
   ]
  },
  {
   "cell_type": "code",
   "execution_count": 20,
   "metadata": {},
   "outputs": [],
   "source": [
    "hello_rules = '''\n",
    "say_hello = names hello tail\n",
    "names = name names | name\n",
    "name = Jhon | Mike |老梁 | 老刘\n",
    "hello = 你好 | 您来啦 | 快请进\n",
    "tail = 呀 | !\n",
    "'''"
   ]
  },
  {
   "cell_type": "code",
   "execution_count": 21,
   "metadata": {},
   "outputs": [],
   "source": [
    "rules = dict() #key is the @statement, value is @expression"
   ]
  },
  {
   "cell_type": "code",
   "execution_count": 22,
   "metadata": {},
   "outputs": [
    {
     "data": {
      "text/plain": [
       "'add = number + number'"
      ]
     },
     "execution_count": 22,
     "metadata": {},
     "output_type": "execute_result"
    }
   ],
   "source": [
    "'add = number + number'"
   ]
  },
  {
   "cell_type": "code",
   "execution_count": 23,
   "metadata": {},
   "outputs": [
    {
     "name": "stdout",
     "output_type": "stream",
     "text": [
      "say_hello = names hello tail\n",
      "names = name names | name\n",
      "name = Jhon | Mike |老梁 | 老刘\n",
      "hello = 你好 | 您来啦 | 快请进\n",
      "tail = 呀 | !\n"
     ]
    }
   ],
   "source": [
    "for line in hello_rules.split('\\n'):\n",
    "    if not line: continue\n",
    "    #skip the empty line\n",
    "    \n",
    "    print(line)"
   ]
  },
  {
   "cell_type": "code",
   "execution_count": 24,
   "metadata": {},
   "outputs": [
    {
     "name": "stdout",
     "output_type": "stream",
     "text": [
      "say_hello  [' names hello tail']\n",
      "names  [' name names ', ' name']\n",
      "name  [' Jhon ', ' Mike ', '老梁 ', ' 老刘']\n",
      "hello  [' 你好 ', ' 您来啦 ', ' 快请进']\n",
      "tail  [' 呀 ', ' !']\n"
     ]
    }
   ],
   "source": [
    "stmt_split = '='\n",
    "or_split = '|'\n",
    "for line in hello_rules.split('\\n'):\n",
    "    if not line: continue\n",
    "    #skip the empty line\n",
    "    \n",
    "    stmt,expr = line.split(stmt_split)\n",
    "    \n",
    "    print(stmt,expr.split(or_split))\n",
    "    \n",
    "    rules[stmt.strip()] = expr.split(or_split)"
   ]
  },
  {
   "cell_type": "code",
   "execution_count": 25,
   "metadata": {},
   "outputs": [
    {
     "data": {
      "text/plain": [
       "{'say_hello': [' names hello tail'],\n",
       " 'names': [' name names ', ' name'],\n",
       " 'name': [' Jhon ', ' Mike ', '老梁 ', ' 老刘'],\n",
       " 'hello': [' 你好 ', ' 您来啦 ', ' 快请进'],\n",
       " 'tail': [' 呀 ', ' !']}"
      ]
     },
     "execution_count": 25,
     "metadata": {},
     "output_type": "execute_result"
    }
   ],
   "source": [
    "rules"
   ]
  },
  {
   "cell_type": "code",
   "execution_count": 26,
   "metadata": {},
   "outputs": [
    {
     "data": {
      "text/plain": [
       "[' Jhon ', ' Mike ', '老梁 ', ' 老刘']"
      ]
     },
     "execution_count": 26,
     "metadata": {},
     "output_type": "execute_result"
    }
   ],
   "source": [
    "rules['name']"
   ]
  },
  {
   "cell_type": "code",
   "execution_count": 27,
   "metadata": {},
   "outputs": [],
   "source": [
    "def generate(grammar_rule,target):\n",
    "    if target in grammar_rule: # names\n",
    "        candidates = grammar_rule[target] # ['name names', 'name']\n",
    "        candidate = random.choice(candidates) #'name names', 'name'\n",
    "        return ' '.join(generate(grammar_rule, target=c.strip())for c in candidate.split())\n",
    "    else:\n",
    "        return target"
   ]
  },
  {
   "cell_type": "code",
   "execution_count": 28,
   "metadata": {},
   "outputs": [
    {
     "data": {
      "text/plain": [
       "'老梁 老梁'"
      ]
     },
     "execution_count": 28,
     "metadata": {},
     "output_type": "execute_result"
    }
   ],
   "source": [
    "generate(rules, target='names')"
   ]
  },
  {
   "cell_type": "code",
   "execution_count": 29,
   "metadata": {},
   "outputs": [],
   "source": [
    "def get_generation_by_gram(grammar_str: str, target, stmt_split='=', or_split='|'):\n",
    "    rules = dict()\n",
    "    for line in grammar_str.split('\\n'):\n",
    "        if not line: continue\n",
    "        #skip the empty line\n",
    "        stmt,expr = line.split(stmt_split)\n",
    "    \n",
    "        rules[stmt.strip()] = expr.split(or_split)\n",
    "        \n",
    "        print(rules)\n",
    "        \n",
    "        #generated = generate(rules, target=target)\n",
    "        \n",
    "        #return generated\n",
    "    "
   ]
  },
  {
   "cell_type": "code",
   "execution_count": 30,
   "metadata": {},
   "outputs": [],
   "source": [
    "def generate(grammar_rule,target):\n",
    "    if target in grammar_rule: # names\n",
    "        candidates = grammar_rule[target] # ['name names', 'name']\n",
    "        candidate = random.choice(candidates) #'name names', 'name'\n",
    "        return ' '.join(generate(grammar_rule, target=c.strip())for c in candidate)\n",
    "    else:\n",
    "        return target"
   ]
  },
  {
   "cell_type": "code",
   "execution_count": 31,
   "metadata": {},
   "outputs": [
    {
     "name": "stdout",
     "output_type": "stream",
     "text": [
      "{'say_hello': [' names hello tail']}\n",
      "{'say_hello': [' names hello tail'], 'names': [' name names ', ' name']}\n",
      "{'say_hello': [' names hello tail'], 'names': [' name names ', ' name'], 'name': [' Jhon ', ' Mike ', '老梁 ', ' 老刘']}\n",
      "{'say_hello': [' names hello tail'], 'names': [' name names ', ' name'], 'name': [' Jhon ', ' Mike ', '老梁 ', ' 老刘'], 'hello': [' 你好 ', ' 您来啦 ', ' 快请进']}\n",
      "{'say_hello': [' names hello tail'], 'names': [' name names ', ' name'], 'name': [' Jhon ', ' Mike ', '老梁 ', ' 老刘'], 'hello': [' 你好 ', ' 您来啦 ', ' 快请进'], 'tail': [' 呀 ', ' !']}\n"
     ]
    }
   ],
   "source": [
    "get_generation_by_gram(hello_rules,target='say_hello')"
   ]
  },
  {
   "cell_type": "code",
   "execution_count": 32,
   "metadata": {},
   "outputs": [],
   "source": [
    "simple_grammar = \"\"\"\n",
    "sentence => noun_phrase verb_phrase \n",
    "noun_phrase => Article Adj* noun\n",
    "Adj* => Adj | Adj Adj*\n",
    "verb_phrase => verb noun_phrase\n",
    "Article => 一个 | 这个\n",
    "noun => 女人 | 篮球 | 桌子 | 小猫\n",
    "verb => 看着 | 坐在 | 听着 | 看见\n",
    "Adj => 蓝色的 | 好看的 | 小小的\n",
    "\"\"\""
   ]
  },
  {
   "cell_type": "code",
   "execution_count": 33,
   "metadata": {},
   "outputs": [
    {
     "name": "stdout",
     "output_type": "stream",
     "text": [
      "{'sentence': [' noun_phrase verb_phrase ']}\n",
      "{'sentence': [' noun_phrase verb_phrase '], 'noun_phrase': [' Article Adj* noun']}\n",
      "{'sentence': [' noun_phrase verb_phrase '], 'noun_phrase': [' Article Adj* noun'], 'Adj*': [' Adj ', ' Adj Adj*']}\n",
      "{'sentence': [' noun_phrase verb_phrase '], 'noun_phrase': [' Article Adj* noun'], 'Adj*': [' Adj ', ' Adj Adj*'], 'verb_phrase': [' verb noun_phrase']}\n",
      "{'sentence': [' noun_phrase verb_phrase '], 'noun_phrase': [' Article Adj* noun'], 'Adj*': [' Adj ', ' Adj Adj*'], 'verb_phrase': [' verb noun_phrase'], 'Article': [' 一个 ', ' 这个']}\n",
      "{'sentence': [' noun_phrase verb_phrase '], 'noun_phrase': [' Article Adj* noun'], 'Adj*': [' Adj ', ' Adj Adj*'], 'verb_phrase': [' verb noun_phrase'], 'Article': [' 一个 ', ' 这个'], 'noun': [' 女人 ', ' 篮球 ', ' 桌子 ', ' 小猫']}\n",
      "{'sentence': [' noun_phrase verb_phrase '], 'noun_phrase': [' Article Adj* noun'], 'Adj*': [' Adj ', ' Adj Adj*'], 'verb_phrase': [' verb noun_phrase'], 'Article': [' 一个 ', ' 这个'], 'noun': [' 女人 ', ' 篮球 ', ' 桌子 ', ' 小猫'], 'verb': [' 看着 ', ' 坐在 ', ' 听着 ', ' 看见']}\n",
      "{'sentence': [' noun_phrase verb_phrase '], 'noun_phrase': [' Article Adj* noun'], 'Adj*': [' Adj ', ' Adj Adj*'], 'verb_phrase': [' verb noun_phrase'], 'Article': [' 一个 ', ' 这个'], 'noun': [' 女人 ', ' 篮球 ', ' 桌子 ', ' 小猫'], 'verb': [' 看着 ', ' 坐在 ', ' 听着 ', ' 看见'], 'Adj': [' 蓝色的 ', ' 好看的 ', ' 小小的']}\n"
     ]
    }
   ],
   "source": [
    "get_generation_by_gram(simple_grammar, target='sentence', stmt_split='=>')"
   ]
  },
  {
   "cell_type": "code",
   "execution_count": 34,
   "metadata": {},
   "outputs": [],
   "source": [
    "simple_programming = '''\n",
    "if_stmt => if ( cond ) ( stmt )\n",
    "cond => var op var\n",
    "op => | == | < | >= | <=\n",
    "assgning => var = var\n",
    "var => char\n",
    "char => a | b | c | d\n",
    "'''"
   ]
  },
  {
   "cell_type": "code",
   "execution_count": 35,
   "metadata": {},
   "outputs": [
    {
     "name": "stdout",
     "output_type": "stream",
     "text": [
      "{'if_stmt': [' if ( cond ) ( stmt )']}\n",
      "{'if_stmt': [' if ( cond ) ( stmt )'], 'cond': [' var op var']}\n",
      "{'if_stmt': [' if ( cond ) ( stmt )'], 'cond': [' var op var'], 'op': [' ', ' == ', ' < ', ' >= ', ' <=']}\n",
      "{'if_stmt': [' if ( cond ) ( stmt )'], 'cond': [' var op var'], 'op': [' ', ' == ', ' < ', ' >= ', ' <='], 'assgning': [' var = var']}\n",
      "{'if_stmt': [' if ( cond ) ( stmt )'], 'cond': [' var op var'], 'op': [' ', ' == ', ' < ', ' >= ', ' <='], 'assgning': [' var = var'], 'var': [' char']}\n",
      "{'if_stmt': [' if ( cond ) ( stmt )'], 'cond': [' var op var'], 'op': [' ', ' == ', ' < ', ' >= ', ' <='], 'assgning': [' var = var'], 'var': [' char'], 'char': [' a ', ' b ', ' c ', ' d']}\n",
      "None\n",
      "{'if_stmt': [' if ( cond ) ( stmt )']}\n",
      "{'if_stmt': [' if ( cond ) ( stmt )'], 'cond': [' var op var']}\n",
      "{'if_stmt': [' if ( cond ) ( stmt )'], 'cond': [' var op var'], 'op': [' ', ' == ', ' < ', ' >= ', ' <=']}\n",
      "{'if_stmt': [' if ( cond ) ( stmt )'], 'cond': [' var op var'], 'op': [' ', ' == ', ' < ', ' >= ', ' <='], 'assgning': [' var = var']}\n",
      "{'if_stmt': [' if ( cond ) ( stmt )'], 'cond': [' var op var'], 'op': [' ', ' == ', ' < ', ' >= ', ' <='], 'assgning': [' var = var'], 'var': [' char']}\n",
      "{'if_stmt': [' if ( cond ) ( stmt )'], 'cond': [' var op var'], 'op': [' ', ' == ', ' < ', ' >= ', ' <='], 'assgning': [' var = var'], 'var': [' char'], 'char': [' a ', ' b ', ' c ', ' d']}\n",
      "None\n",
      "{'if_stmt': [' if ( cond ) ( stmt )']}\n",
      "{'if_stmt': [' if ( cond ) ( stmt )'], 'cond': [' var op var']}\n",
      "{'if_stmt': [' if ( cond ) ( stmt )'], 'cond': [' var op var'], 'op': [' ', ' == ', ' < ', ' >= ', ' <=']}\n",
      "{'if_stmt': [' if ( cond ) ( stmt )'], 'cond': [' var op var'], 'op': [' ', ' == ', ' < ', ' >= ', ' <='], 'assgning': [' var = var']}\n",
      "{'if_stmt': [' if ( cond ) ( stmt )'], 'cond': [' var op var'], 'op': [' ', ' == ', ' < ', ' >= ', ' <='], 'assgning': [' var = var'], 'var': [' char']}\n",
      "{'if_stmt': [' if ( cond ) ( stmt )'], 'cond': [' var op var'], 'op': [' ', ' == ', ' < ', ' >= ', ' <='], 'assgning': [' var = var'], 'var': [' char'], 'char': [' a ', ' b ', ' c ', ' d']}\n",
      "None\n",
      "{'if_stmt': [' if ( cond ) ( stmt )']}\n",
      "{'if_stmt': [' if ( cond ) ( stmt )'], 'cond': [' var op var']}\n",
      "{'if_stmt': [' if ( cond ) ( stmt )'], 'cond': [' var op var'], 'op': [' ', ' == ', ' < ', ' >= ', ' <=']}\n",
      "{'if_stmt': [' if ( cond ) ( stmt )'], 'cond': [' var op var'], 'op': [' ', ' == ', ' < ', ' >= ', ' <='], 'assgning': [' var = var']}\n",
      "{'if_stmt': [' if ( cond ) ( stmt )'], 'cond': [' var op var'], 'op': [' ', ' == ', ' < ', ' >= ', ' <='], 'assgning': [' var = var'], 'var': [' char']}\n",
      "{'if_stmt': [' if ( cond ) ( stmt )'], 'cond': [' var op var'], 'op': [' ', ' == ', ' < ', ' >= ', ' <='], 'assgning': [' var = var'], 'var': [' char'], 'char': [' a ', ' b ', ' c ', ' d']}\n",
      "None\n",
      "{'if_stmt': [' if ( cond ) ( stmt )']}\n",
      "{'if_stmt': [' if ( cond ) ( stmt )'], 'cond': [' var op var']}\n",
      "{'if_stmt': [' if ( cond ) ( stmt )'], 'cond': [' var op var'], 'op': [' ', ' == ', ' < ', ' >= ', ' <=']}\n",
      "{'if_stmt': [' if ( cond ) ( stmt )'], 'cond': [' var op var'], 'op': [' ', ' == ', ' < ', ' >= ', ' <='], 'assgning': [' var = var']}\n",
      "{'if_stmt': [' if ( cond ) ( stmt )'], 'cond': [' var op var'], 'op': [' ', ' == ', ' < ', ' >= ', ' <='], 'assgning': [' var = var'], 'var': [' char']}\n",
      "{'if_stmt': [' if ( cond ) ( stmt )'], 'cond': [' var op var'], 'op': [' ', ' == ', ' < ', ' >= ', ' <='], 'assgning': [' var = var'], 'var': [' char'], 'char': [' a ', ' b ', ' c ', ' d']}\n",
      "None\n",
      "{'if_stmt': [' if ( cond ) ( stmt )']}\n",
      "{'if_stmt': [' if ( cond ) ( stmt )'], 'cond': [' var op var']}\n",
      "{'if_stmt': [' if ( cond ) ( stmt )'], 'cond': [' var op var'], 'op': [' ', ' == ', ' < ', ' >= ', ' <=']}\n",
      "{'if_stmt': [' if ( cond ) ( stmt )'], 'cond': [' var op var'], 'op': [' ', ' == ', ' < ', ' >= ', ' <='], 'assgning': [' var = var']}\n",
      "{'if_stmt': [' if ( cond ) ( stmt )'], 'cond': [' var op var'], 'op': [' ', ' == ', ' < ', ' >= ', ' <='], 'assgning': [' var = var'], 'var': [' char']}\n",
      "{'if_stmt': [' if ( cond ) ( stmt )'], 'cond': [' var op var'], 'op': [' ', ' == ', ' < ', ' >= ', ' <='], 'assgning': [' var = var'], 'var': [' char'], 'char': [' a ', ' b ', ' c ', ' d']}\n",
      "None\n",
      "{'if_stmt': [' if ( cond ) ( stmt )']}\n",
      "{'if_stmt': [' if ( cond ) ( stmt )'], 'cond': [' var op var']}\n",
      "{'if_stmt': [' if ( cond ) ( stmt )'], 'cond': [' var op var'], 'op': [' ', ' == ', ' < ', ' >= ', ' <=']}\n",
      "{'if_stmt': [' if ( cond ) ( stmt )'], 'cond': [' var op var'], 'op': [' ', ' == ', ' < ', ' >= ', ' <='], 'assgning': [' var = var']}\n",
      "{'if_stmt': [' if ( cond ) ( stmt )'], 'cond': [' var op var'], 'op': [' ', ' == ', ' < ', ' >= ', ' <='], 'assgning': [' var = var'], 'var': [' char']}\n",
      "{'if_stmt': [' if ( cond ) ( stmt )'], 'cond': [' var op var'], 'op': [' ', ' == ', ' < ', ' >= ', ' <='], 'assgning': [' var = var'], 'var': [' char'], 'char': [' a ', ' b ', ' c ', ' d']}\n",
      "None\n",
      "{'if_stmt': [' if ( cond ) ( stmt )']}\n",
      "{'if_stmt': [' if ( cond ) ( stmt )'], 'cond': [' var op var']}\n",
      "{'if_stmt': [' if ( cond ) ( stmt )'], 'cond': [' var op var'], 'op': [' ', ' == ', ' < ', ' >= ', ' <=']}\n",
      "{'if_stmt': [' if ( cond ) ( stmt )'], 'cond': [' var op var'], 'op': [' ', ' == ', ' < ', ' >= ', ' <='], 'assgning': [' var = var']}\n",
      "{'if_stmt': [' if ( cond ) ( stmt )'], 'cond': [' var op var'], 'op': [' ', ' == ', ' < ', ' >= ', ' <='], 'assgning': [' var = var'], 'var': [' char']}\n",
      "{'if_stmt': [' if ( cond ) ( stmt )'], 'cond': [' var op var'], 'op': [' ', ' == ', ' < ', ' >= ', ' <='], 'assgning': [' var = var'], 'var': [' char'], 'char': [' a ', ' b ', ' c ', ' d']}\n",
      "None\n",
      "{'if_stmt': [' if ( cond ) ( stmt )']}\n",
      "{'if_stmt': [' if ( cond ) ( stmt )'], 'cond': [' var op var']}\n",
      "{'if_stmt': [' if ( cond ) ( stmt )'], 'cond': [' var op var'], 'op': [' ', ' == ', ' < ', ' >= ', ' <=']}\n",
      "{'if_stmt': [' if ( cond ) ( stmt )'], 'cond': [' var op var'], 'op': [' ', ' == ', ' < ', ' >= ', ' <='], 'assgning': [' var = var']}\n",
      "{'if_stmt': [' if ( cond ) ( stmt )'], 'cond': [' var op var'], 'op': [' ', ' == ', ' < ', ' >= ', ' <='], 'assgning': [' var = var'], 'var': [' char']}\n",
      "{'if_stmt': [' if ( cond ) ( stmt )'], 'cond': [' var op var'], 'op': [' ', ' == ', ' < ', ' >= ', ' <='], 'assgning': [' var = var'], 'var': [' char'], 'char': [' a ', ' b ', ' c ', ' d']}\n",
      "None\n",
      "{'if_stmt': [' if ( cond ) ( stmt )']}\n",
      "{'if_stmt': [' if ( cond ) ( stmt )'], 'cond': [' var op var']}\n",
      "{'if_stmt': [' if ( cond ) ( stmt )'], 'cond': [' var op var'], 'op': [' ', ' == ', ' < ', ' >= ', ' <=']}\n",
      "{'if_stmt': [' if ( cond ) ( stmt )'], 'cond': [' var op var'], 'op': [' ', ' == ', ' < ', ' >= ', ' <='], 'assgning': [' var = var']}\n",
      "{'if_stmt': [' if ( cond ) ( stmt )'], 'cond': [' var op var'], 'op': [' ', ' == ', ' < ', ' >= ', ' <='], 'assgning': [' var = var'], 'var': [' char']}\n",
      "{'if_stmt': [' if ( cond ) ( stmt )'], 'cond': [' var op var'], 'op': [' ', ' == ', ' < ', ' >= ', ' <='], 'assgning': [' var = var'], 'var': [' char'], 'char': [' a ', ' b ', ' c ', ' d']}\n",
      "None\n",
      "{'if_stmt': [' if ( cond ) ( stmt )']}\n",
      "{'if_stmt': [' if ( cond ) ( stmt )'], 'cond': [' var op var']}\n",
      "{'if_stmt': [' if ( cond ) ( stmt )'], 'cond': [' var op var'], 'op': [' ', ' == ', ' < ', ' >= ', ' <=']}\n",
      "{'if_stmt': [' if ( cond ) ( stmt )'], 'cond': [' var op var'], 'op': [' ', ' == ', ' < ', ' >= ', ' <='], 'assgning': [' var = var']}\n",
      "{'if_stmt': [' if ( cond ) ( stmt )'], 'cond': [' var op var'], 'op': [' ', ' == ', ' < ', ' >= ', ' <='], 'assgning': [' var = var'], 'var': [' char']}\n",
      "{'if_stmt': [' if ( cond ) ( stmt )'], 'cond': [' var op var'], 'op': [' ', ' == ', ' < ', ' >= ', ' <='], 'assgning': [' var = var'], 'var': [' char'], 'char': [' a ', ' b ', ' c ', ' d']}\n",
      "None\n",
      "{'if_stmt': [' if ( cond ) ( stmt )']}\n",
      "{'if_stmt': [' if ( cond ) ( stmt )'], 'cond': [' var op var']}\n",
      "{'if_stmt': [' if ( cond ) ( stmt )'], 'cond': [' var op var'], 'op': [' ', ' == ', ' < ', ' >= ', ' <=']}\n",
      "{'if_stmt': [' if ( cond ) ( stmt )'], 'cond': [' var op var'], 'op': [' ', ' == ', ' < ', ' >= ', ' <='], 'assgning': [' var = var']}\n",
      "{'if_stmt': [' if ( cond ) ( stmt )'], 'cond': [' var op var'], 'op': [' ', ' == ', ' < ', ' >= ', ' <='], 'assgning': [' var = var'], 'var': [' char']}\n",
      "{'if_stmt': [' if ( cond ) ( stmt )'], 'cond': [' var op var'], 'op': [' ', ' == ', ' < ', ' >= ', ' <='], 'assgning': [' var = var'], 'var': [' char'], 'char': [' a ', ' b ', ' c ', ' d']}\n",
      "None\n",
      "{'if_stmt': [' if ( cond ) ( stmt )']}\n",
      "{'if_stmt': [' if ( cond ) ( stmt )'], 'cond': [' var op var']}\n",
      "{'if_stmt': [' if ( cond ) ( stmt )'], 'cond': [' var op var'], 'op': [' ', ' == ', ' < ', ' >= ', ' <=']}\n",
      "{'if_stmt': [' if ( cond ) ( stmt )'], 'cond': [' var op var'], 'op': [' ', ' == ', ' < ', ' >= ', ' <='], 'assgning': [' var = var']}\n",
      "{'if_stmt': [' if ( cond ) ( stmt )'], 'cond': [' var op var'], 'op': [' ', ' == ', ' < ', ' >= ', ' <='], 'assgning': [' var = var'], 'var': [' char']}\n",
      "{'if_stmt': [' if ( cond ) ( stmt )'], 'cond': [' var op var'], 'op': [' ', ' == ', ' < ', ' >= ', ' <='], 'assgning': [' var = var'], 'var': [' char'], 'char': [' a ', ' b ', ' c ', ' d']}\n",
      "None\n",
      "{'if_stmt': [' if ( cond ) ( stmt )']}\n",
      "{'if_stmt': [' if ( cond ) ( stmt )'], 'cond': [' var op var']}\n",
      "{'if_stmt': [' if ( cond ) ( stmt )'], 'cond': [' var op var'], 'op': [' ', ' == ', ' < ', ' >= ', ' <=']}\n",
      "{'if_stmt': [' if ( cond ) ( stmt )'], 'cond': [' var op var'], 'op': [' ', ' == ', ' < ', ' >= ', ' <='], 'assgning': [' var = var']}\n",
      "{'if_stmt': [' if ( cond ) ( stmt )'], 'cond': [' var op var'], 'op': [' ', ' == ', ' < ', ' >= ', ' <='], 'assgning': [' var = var'], 'var': [' char']}\n",
      "{'if_stmt': [' if ( cond ) ( stmt )'], 'cond': [' var op var'], 'op': [' ', ' == ', ' < ', ' >= ', ' <='], 'assgning': [' var = var'], 'var': [' char'], 'char': [' a ', ' b ', ' c ', ' d']}\n",
      "None\n",
      "{'if_stmt': [' if ( cond ) ( stmt )']}\n",
      "{'if_stmt': [' if ( cond ) ( stmt )'], 'cond': [' var op var']}\n",
      "{'if_stmt': [' if ( cond ) ( stmt )'], 'cond': [' var op var'], 'op': [' ', ' == ', ' < ', ' >= ', ' <=']}\n",
      "{'if_stmt': [' if ( cond ) ( stmt )'], 'cond': [' var op var'], 'op': [' ', ' == ', ' < ', ' >= ', ' <='], 'assgning': [' var = var']}\n",
      "{'if_stmt': [' if ( cond ) ( stmt )'], 'cond': [' var op var'], 'op': [' ', ' == ', ' < ', ' >= ', ' <='], 'assgning': [' var = var'], 'var': [' char']}\n",
      "{'if_stmt': [' if ( cond ) ( stmt )'], 'cond': [' var op var'], 'op': [' ', ' == ', ' < ', ' >= ', ' <='], 'assgning': [' var = var'], 'var': [' char'], 'char': [' a ', ' b ', ' c ', ' d']}\n",
      "None\n",
      "{'if_stmt': [' if ( cond ) ( stmt )']}\n",
      "{'if_stmt': [' if ( cond ) ( stmt )'], 'cond': [' var op var']}\n",
      "{'if_stmt': [' if ( cond ) ( stmt )'], 'cond': [' var op var'], 'op': [' ', ' == ', ' < ', ' >= ', ' <=']}\n",
      "{'if_stmt': [' if ( cond ) ( stmt )'], 'cond': [' var op var'], 'op': [' ', ' == ', ' < ', ' >= ', ' <='], 'assgning': [' var = var']}\n",
      "{'if_stmt': [' if ( cond ) ( stmt )'], 'cond': [' var op var'], 'op': [' ', ' == ', ' < ', ' >= ', ' <='], 'assgning': [' var = var'], 'var': [' char']}\n",
      "{'if_stmt': [' if ( cond ) ( stmt )'], 'cond': [' var op var'], 'op': [' ', ' == ', ' < ', ' >= ', ' <='], 'assgning': [' var = var'], 'var': [' char'], 'char': [' a ', ' b ', ' c ', ' d']}\n",
      "None\n",
      "{'if_stmt': [' if ( cond ) ( stmt )']}\n",
      "{'if_stmt': [' if ( cond ) ( stmt )'], 'cond': [' var op var']}\n",
      "{'if_stmt': [' if ( cond ) ( stmt )'], 'cond': [' var op var'], 'op': [' ', ' == ', ' < ', ' >= ', ' <=']}\n",
      "{'if_stmt': [' if ( cond ) ( stmt )'], 'cond': [' var op var'], 'op': [' ', ' == ', ' < ', ' >= ', ' <='], 'assgning': [' var = var']}\n",
      "{'if_stmt': [' if ( cond ) ( stmt )'], 'cond': [' var op var'], 'op': [' ', ' == ', ' < ', ' >= ', ' <='], 'assgning': [' var = var'], 'var': [' char']}\n",
      "{'if_stmt': [' if ( cond ) ( stmt )'], 'cond': [' var op var'], 'op': [' ', ' == ', ' < ', ' >= ', ' <='], 'assgning': [' var = var'], 'var': [' char'], 'char': [' a ', ' b ', ' c ', ' d']}\n",
      "None\n",
      "{'if_stmt': [' if ( cond ) ( stmt )']}\n",
      "{'if_stmt': [' if ( cond ) ( stmt )'], 'cond': [' var op var']}\n",
      "{'if_stmt': [' if ( cond ) ( stmt )'], 'cond': [' var op var'], 'op': [' ', ' == ', ' < ', ' >= ', ' <=']}\n",
      "{'if_stmt': [' if ( cond ) ( stmt )'], 'cond': [' var op var'], 'op': [' ', ' == ', ' < ', ' >= ', ' <='], 'assgning': [' var = var']}\n",
      "{'if_stmt': [' if ( cond ) ( stmt )'], 'cond': [' var op var'], 'op': [' ', ' == ', ' < ', ' >= ', ' <='], 'assgning': [' var = var'], 'var': [' char']}\n",
      "{'if_stmt': [' if ( cond ) ( stmt )'], 'cond': [' var op var'], 'op': [' ', ' == ', ' < ', ' >= ', ' <='], 'assgning': [' var = var'], 'var': [' char'], 'char': [' a ', ' b ', ' c ', ' d']}\n",
      "None\n",
      "{'if_stmt': [' if ( cond ) ( stmt )']}\n",
      "{'if_stmt': [' if ( cond ) ( stmt )'], 'cond': [' var op var']}\n",
      "{'if_stmt': [' if ( cond ) ( stmt )'], 'cond': [' var op var'], 'op': [' ', ' == ', ' < ', ' >= ', ' <=']}\n",
      "{'if_stmt': [' if ( cond ) ( stmt )'], 'cond': [' var op var'], 'op': [' ', ' == ', ' < ', ' >= ', ' <='], 'assgning': [' var = var']}\n",
      "{'if_stmt': [' if ( cond ) ( stmt )'], 'cond': [' var op var'], 'op': [' ', ' == ', ' < ', ' >= ', ' <='], 'assgning': [' var = var'], 'var': [' char']}\n",
      "{'if_stmt': [' if ( cond ) ( stmt )'], 'cond': [' var op var'], 'op': [' ', ' == ', ' < ', ' >= ', ' <='], 'assgning': [' var = var'], 'var': [' char'], 'char': [' a ', ' b ', ' c ', ' d']}\n",
      "None\n",
      "{'if_stmt': [' if ( cond ) ( stmt )']}\n",
      "{'if_stmt': [' if ( cond ) ( stmt )'], 'cond': [' var op var']}\n",
      "{'if_stmt': [' if ( cond ) ( stmt )'], 'cond': [' var op var'], 'op': [' ', ' == ', ' < ', ' >= ', ' <=']}\n",
      "{'if_stmt': [' if ( cond ) ( stmt )'], 'cond': [' var op var'], 'op': [' ', ' == ', ' < ', ' >= ', ' <='], 'assgning': [' var = var']}\n",
      "{'if_stmt': [' if ( cond ) ( stmt )'], 'cond': [' var op var'], 'op': [' ', ' == ', ' < ', ' >= ', ' <='], 'assgning': [' var = var'], 'var': [' char']}\n",
      "{'if_stmt': [' if ( cond ) ( stmt )'], 'cond': [' var op var'], 'op': [' ', ' == ', ' < ', ' >= ', ' <='], 'assgning': [' var = var'], 'var': [' char'], 'char': [' a ', ' b ', ' c ', ' d']}\n",
      "None\n"
     ]
    }
   ],
   "source": [
    "for i in range(20):\n",
    "    print(get_generation_by_gram(simple_programming, target='if_stmt', stmt_split='=>'))"
   ]
  },
  {
   "cell_type": "code",
   "execution_count": 36,
   "metadata": {},
   "outputs": [
    {
     "name": "stdout",
     "output_type": "stream",
     "text": [
      "{'if_stmt': [' if ( cond ) ( stmt )']}\n",
      "{'if_stmt': [' if ( cond ) ( stmt )'], 'cond': [' var op var']}\n",
      "{'if_stmt': [' if ( cond ) ( stmt )'], 'cond': [' var op var'], 'op': [' ', ' == ', ' < ', ' >= ', ' <=']}\n",
      "{'if_stmt': [' if ( cond ) ( stmt )'], 'cond': [' var op var'], 'op': [' ', ' == ', ' < ', ' >= ', ' <='], 'assgning': [' var = var']}\n",
      "{'if_stmt': [' if ( cond ) ( stmt )'], 'cond': [' var op var'], 'op': [' ', ' == ', ' < ', ' >= ', ' <='], 'assgning': [' var = var'], 'var': [' char']}\n",
      "{'if_stmt': [' if ( cond ) ( stmt )'], 'cond': [' var op var'], 'op': [' ', ' == ', ' < ', ' >= ', ' <='], 'assgning': [' var = var'], 'var': [' char'], 'char': [' a ', ' b ', ' c ', ' d']}\n"
     ]
    }
   ],
   "source": [
    "get_generation_by_gram(simple_programming, target='if_stmt', stmt_split='=>')"
   ]
  },
  {
   "cell_type": "markdown",
   "metadata": {},
   "source": [
    "# Data Driven\n",
    "# 编译原理\n",
    "# 1990 第一篇机器学习真正应用的论文，Data Driven\n",
    "# 期望我们的程序，能够根据我们输入的数据，自动进行处理不会随着数据变化而变化\n",
    "\n",
    "# 智能客户机器人小美\n",
    "# 微软小冰\n",
    "# 建行，中行的机器人\n",
    "# 文本的分析匹配\n",
    "\n",
    "# 只要发现有大量if——else，大量的规则要做的时候，\n"
   ]
  },
  {
   "cell_type": "markdown",
   "metadata": {},
   "source": [
    "# Language Model\n",
    "# Input: sentence(w1...wn)\n",
    "# Output: probability(0-1)\n",
    "## $$Pr(sentence) = Pr(w_1 \\cdot w_2 \\cdots w_n) = \\prod \\frac{count(w_i,w_{i+1})}{count(w_i)}$$"
   ]
  },
  {
   "cell_type": "code",
   "execution_count": 37,
   "metadata": {},
   "outputs": [],
   "source": [
    "corpus = '/Users/liangliang/Documents/NLP/5th/article_9k.txt'"
   ]
  },
  {
   "cell_type": "code",
   "execution_count": 38,
   "metadata": {},
   "outputs": [],
   "source": [
    "FILE = open(corpus, encoding='UTF-8').read()"
   ]
  },
  {
   "cell_type": "code",
   "execution_count": 39,
   "metadata": {},
   "outputs": [],
   "source": [
    "def generate_by_pro(text_corpus, length=20):\n",
    "    return ''.join(random.sample(text_corpus,length))"
   ]
  },
  {
   "cell_type": "code",
   "execution_count": 42,
   "metadata": {},
   "outputs": [
    {
     "data": {
      "text/plain": [
       "'建在手线项型5下车n主的赛据鱼在子n紧策'"
      ]
     },
     "execution_count": 42,
     "metadata": {},
     "output_type": "execute_result"
    }
   ],
   "source": [
    "generate_by_pro(FILE)"
   ]
  },
  {
   "cell_type": "code",
   "execution_count": 44,
   "metadata": {},
   "outputs": [
    {
     "data": {
      "text/plain": [
       "'此外自本周6月12日起除小米手机6等15款机型外其余机型已暂停更新发布含开发版体验版内测稳定版暂不受影响以确保工程师可以集中全部精力进行系统优化工作有人猜测这也是将精力主要用到MIUI9的研发之中MIUI8去年5月发布距今已有一年有余也是时候更新换代了当然关于MIUI9的确切信息我们还是等待官方消息\\n骁龙835作为唯一通过Windows10桌面平台认证的ARM处理器高通强调不会因为只考虑性能而去屏蔽掉小核心相反他们正联手微软找到一种适合桌面平台的兼顾性能和功耗的完美方案报道称微软已经拿到了一些新的源码以便Windows10更好地理解biglittle架构资料显示骁龙835作为一款集成了CPUGPU基带蓝牙WiFi的SoC比传统的Wintel方案可以节省至少30的PCB空间按计划今年Q4华硕惠普联想将首发骁龙835Win10电脑预计均是二合一形态的产品当然高通骁龙只是个开始未来也许还能见到三星Exynos联发科华为麒麟小米澎湃等进入Windows10桌面平台\\n此前的一加3T搭载的是3400mAh电池DashCharge快充规格为5V4A至于电池缩水可能与刘作虎所说一加手机5要做市面最轻薄'"
      ]
     },
     "execution_count": 44,
     "metadata": {},
     "output_type": "execute_result"
    }
   ],
   "source": [
    "FILE[:500]"
   ]
  },
  {
   "cell_type": "code",
   "execution_count": 41,
   "metadata": {},
   "outputs": [],
   "source": [
    "import jieba"
   ]
  },
  {
   "cell_type": "code",
   "execution_count": 59,
   "metadata": {},
   "outputs": [],
   "source": [
    "max_length = 1000000\n",
    " \n",
    "sub_file = FILE[:max_length]"
   ]
  },
  {
   "cell_type": "code",
   "execution_count": 60,
   "metadata": {},
   "outputs": [],
   "source": [
    "def cut(string):\n",
    "    return list(jieba.cut(string))"
   ]
  },
  {
   "cell_type": "code",
   "execution_count": 61,
   "metadata": {},
   "outputs": [],
   "source": [
    "TOKENS = cut(sub_file)"
   ]
  },
  {
   "cell_type": "code",
   "execution_count": 62,
   "metadata": {},
   "outputs": [
    {
     "data": {
      "text/plain": [
       "532454"
      ]
     },
     "execution_count": 62,
     "metadata": {},
     "output_type": "execute_result"
    }
   ],
   "source": [
    "len(TOKENS)"
   ]
  },
  {
   "cell_type": "code",
   "execution_count": 63,
   "metadata": {},
   "outputs": [],
   "source": [
    "from collections import Counter"
   ]
  },
  {
   "cell_type": "code",
   "execution_count": 64,
   "metadata": {},
   "outputs": [],
   "source": [
    "%matplotlib inline"
   ]
  },
  {
   "cell_type": "code",
   "execution_count": 65,
   "metadata": {},
   "outputs": [],
   "source": [
    "words_count = Counter(TOKENS)"
   ]
  },
  {
   "cell_type": "code",
   "execution_count": 66,
   "metadata": {},
   "outputs": [],
   "source": [
    "words_with_fre = [f for w, f in words_count.most_common()]"
   ]
  },
  {
   "cell_type": "code",
   "execution_count": 67,
   "metadata": {},
   "outputs": [],
   "source": [
    "import matplotlib.pyplot as plt"
   ]
  },
  {
   "cell_type": "code",
   "execution_count": 68,
   "metadata": {},
   "outputs": [
    {
     "data": {
      "text/plain": [
       "[('的', 28764),\n",
       " ('在', 7563),\n",
       " ('了', 6529),\n",
       " ('是', 4883),\n",
       " ('和', 4245),\n",
       " ('也', 2531),\n",
       " ('月', 2433),\n",
       " ('有', 2374),\n",
       " ('将', 2114),\n",
       " ('他', 1960),\n",
       " ('年', 1959),\n",
       " ('对', 1795),\n",
       " ('都', 1720),\n",
       " ('中', 1699),\n",
       " ('为', 1686),\n",
       " ('日', 1674),\n",
       " ('等', 1655),\n",
       " ('与', 1601),\n",
       " ('中国', 1597),\n",
       " ('上', 1583),\n",
       " ('不', 1566),\n",
       " ('就', 1530),\n",
       " ('被', 1484),\n",
       " ('6', 1454),\n",
       " ('我', 1425),\n",
       " ('到', 1385),\n",
       " ('这', 1330),\n",
       " ('人', 1321),\n",
       " ('但', 1296),\n",
       " ('\\n', 1196),\n",
       " ('后', 1186),\n",
       " ('一个', 1173),\n",
       " ('从', 1120),\n",
       " ('还', 1117),\n",
       " ('并', 1103),\n",
       " ('说', 1065),\n",
       " ('而', 1027),\n",
       " ('市场', 1018),\n",
       " ('会', 1001),\n",
       " ('我们', 981),\n",
       " ('没有', 981),\n",
       " ('表示', 934),\n",
       " ('让', 878),\n",
       " ('自己', 831),\n",
       " ('进行', 818),\n",
       " ('要', 817),\n",
       " ('已经', 808),\n",
       " ('记者', 794),\n",
       " ('时', 774),\n",
       " ('可以', 773),\n",
       " ('个', 761),\n",
       " ('他们', 759),\n",
       " ('以', 752),\n",
       " ('公司', 730),\n",
       " ('下', 723),\n",
       " ('更', 699),\n",
       " ('发展', 694),\n",
       " ('5', 670),\n",
       " ('她', 652),\n",
       " ('美国', 651),\n",
       " ('其', 649),\n",
       " ('可能', 648),\n",
       " ('多', 646),\n",
       " ('你', 640),\n",
       " ('这个', 636),\n",
       " ('着', 631),\n",
       " ('目前', 611),\n",
       " ('就是', 611),\n",
       " ('能', 594),\n",
       " ('通过', 591),\n",
       " ('企业', 572),\n",
       " ('给', 567),\n",
       " ('时间', 560),\n",
       " ('工作', 558),\n",
       " ('新', 557),\n",
       " ('3', 555),\n",
       " ('很', 549),\n",
       " ('把', 548),\n",
       " ('问题', 546),\n",
       " ('来', 545),\n",
       " ('1', 535),\n",
       " ('经济', 521),\n",
       " ('地', 519),\n",
       " ('大', 519),\n",
       " ('北京', 511),\n",
       " ('已', 509),\n",
       " ('去', 501),\n",
       " ('20', 495),\n",
       " ('成为', 495),\n",
       " ('又', 491),\n",
       " ('以及', 488),\n",
       " ('旅游', 487),\n",
       " ('称', 486),\n",
       " ('里', 485),\n",
       " ('其中', 481),\n",
       " ('向', 478),\n",
       " ('4', 474),\n",
       " ('于', 470),\n",
       " ('投资', 467),\n",
       " ('10', 464)]"
      ]
     },
     "execution_count": 68,
     "metadata": {},
     "output_type": "execute_result"
    }
   ],
   "source": [
    "words_count.most_common(100)"
   ]
  },
  {
   "cell_type": "code",
   "execution_count": 69,
   "metadata": {},
   "outputs": [],
   "source": [
    "import numpy as np"
   ]
  },
  {
   "cell_type": "code",
   "execution_count": 70,
   "metadata": {},
   "outputs": [
    {
     "data": {
      "text/plain": [
       "[<matplotlib.lines.Line2D at 0x1399db710>]"
      ]
     },
     "execution_count": 70,
     "metadata": {},
     "output_type": "execute_result"
    },
    {
     "data": {
      "image/png": "[encoded data removed]",
      "text/plain": [
       "<Figure size 432x288 with 1 Axes>"
      ]
     },
     "metadata": {
      "needs_background": "light"
     },
     "output_type": "display_data"
    }
   ],
   "source": [
    "plt.plot(np.log(words_with_fre))"
   ]
  },
  {
   "cell_type": "markdown",
   "metadata": {},
   "source": [
    "# 在大量文本中，出现次数第二多的单词\n",
    "# 出现的概率是出现频率最高的单词的1/2\n",
    "# 出现频率第三高的单词，频率是最高单词的1/3\n",
    "# 1000 => 1/1000"
   ]
  },
  {
   "cell_type": "code",
   "execution_count": 6,
   "metadata": {},
   "outputs": [
    {
     "name": "stderr",
     "output_type": "stream",
     "text": [
      "Building prefix dict from the default dictionary ...\n",
      "Dumping model to file cache /var/folders/16/g4yxjghx6l3f6k6vkhgrhq700000gn/T/jieba.cache\n",
      "Loading model cost 0.877 seconds.\n",
      "Prefix dict has been built succesfully.\n"
     ]
    },
    {
     "data": {
      "text/plain": [
       "['一加', '手机', '5', '要', '做', '市面', '最', '轻薄']"
      ]
     },
     "execution_count": 6,
     "metadata": {},
     "output_type": "execute_result"
    }
   ],
   "source": [
    "list(jieba.cut('一加手机5要做市面最轻薄'))"
   ]
  },
  {
   "cell_type": "code",
   "execution_count": 112,
   "metadata": {},
   "outputs": [],
   "source": [
    "_2_gram_words = [\n",
    "    TOKENS[i] + TOKENS[i+1] for i in range(len(TOKENS) - 1)\n",
    "]"
   ]
  },
  {
   "cell_type": "code",
   "execution_count": 113,
   "metadata": {},
   "outputs": [
    {
     "data": {
      "text/plain": [
       "['此外自', '自本周', '本周6', '6月', '月12', '12日起', '日起除', '除小米', '小米手机', '手机6']"
      ]
     },
     "execution_count": 113,
     "metadata": {},
     "output_type": "execute_result"
    }
   ],
   "source": [
    "_2_gram_words[:10]"
   ]
  },
  {
   "cell_type": "code",
   "execution_count": 114,
   "metadata": {},
   "outputs": [],
   "source": [
    "_2_gram_word_counts = Counter(_2_gram_words)"
   ]
  },
  {
   "cell_type": "markdown",
   "metadata": {},
   "source": [
    "## $$Pr(sentence) = Pr(w_1 \\cdot w_2 \\cdots w_n) = \\prod \\frac{count(w_i,w_{i+1})}{count(w_{i+1})}$$"
   ]
  },
  {
   "cell_type": "code",
   "execution_count": 115,
   "metadata": {},
   "outputs": [
    {
     "data": {
      "text/plain": [
       "1"
      ]
     },
     "execution_count": 115,
     "metadata": {},
     "output_type": "execute_result"
    }
   ],
   "source": [
    "words_count.most_common()[-1][-1]"
   ]
  },
  {
   "cell_type": "code",
   "execution_count": 116,
   "metadata": {},
   "outputs": [],
   "source": [
    "def get_1_gram_count(word):\n",
    "    if word in words_count: return words_count[word]\n",
    "    else: \n",
    "        return words_count.most_common()[-1][-1]"
   ]
  },
  {
   "cell_type": "code",
   "execution_count": 117,
   "metadata": {},
   "outputs": [],
   "source": [
    "def get_2_gram_count(word):\n",
    "    if word in _2_gram_counts: return _2_gram_word_counts[word]\n",
    "    else:\n",
    "        return words_count.most_common()[-1][-1]"
   ]
  },
  {
   "cell_type": "code",
   "execution_count": 118,
   "metadata": {},
   "outputs": [],
   "source": [
    "def get_gram_count(word,wc):\n",
    "    if word in wc: return wc[word]\n",
    "    else:\n",
    "        return wc.most_common()[-1][-1]"
   ]
  },
  {
   "cell_type": "code",
   "execution_count": 119,
   "metadata": {},
   "outputs": [
    {
     "data": {
      "text/plain": [
       "1"
      ]
     },
     "execution_count": 119,
     "metadata": {},
     "output_type": "execute_result"
    }
   ],
   "source": [
    "get_gram_count('xxx', words_count)"
   ]
  },
  {
   "cell_type": "code",
   "execution_count": 120,
   "metadata": {},
   "outputs": [
    {
     "data": {
      "text/plain": [
       "1"
      ]
     },
     "execution_count": 120,
     "metadata": {},
     "output_type": "execute_result"
    }
   ],
   "source": [
    "get_gram_count('xxx', _2_gram_word_counts)"
   ]
  },
  {
   "cell_type": "code",
   "execution_count": 127,
   "metadata": {},
   "outputs": [],
   "source": [
    "def two_gram_model(sentence):\n",
    "    # 2-gram language model\n",
    "    tokens = cut(sentence)\n",
    "    \n",
    "    probability = 1\n",
    "    \n",
    "    for i in range(len(tokens)-1):\n",
    "        word = tokens[i]\n",
    "        next_word = tokens[i + 1]\n",
    "        \n",
    "        _two_gram_c = get_gram_count(word+next_word, _2_gram_word_counts)\n",
    "        _one_gram_c = get_gram_count(next_word, words_count)\n",
    "        pro =  _two_gram_c/ _one_gram_c\n",
    "        \n",
    "        probability *= pro\n",
    "                                                                        \n",
    "        return probability"
   ]
  },
  {
   "cell_type": "code",
   "execution_count": 128,
   "metadata": {},
   "outputs": [
    {
     "data": {
      "text/plain": [
       "0.00641025641025641"
      ]
     },
     "execution_count": 128,
     "metadata": {},
     "output_type": "execute_result"
    }
   ],
   "source": [
    "two_gram_model('此外自本周6月12日起除小米手机6等15款机型')"
   ]
  },
  {
   "cell_type": "code",
   "execution_count": 129,
   "metadata": {},
   "outputs": [
    {
     "data": {
      "text/plain": [
       "0.02857142857142857"
      ]
     },
     "execution_count": 129,
     "metadata": {},
     "output_type": "execute_result"
    }
   ],
   "source": [
    "two_gram_model('前天早上吃完饭的时候')"
   ]
  },
  {
   "cell_type": "code",
   "execution_count": null,
   "metadata": {},
   "outputs": [],
   "source": []
  }
 ],
 "metadata": {
  "kernelspec": {
   "display_name": "Python 3",
   "language": "python",
   "name": "python3"
  },
  "language_info": {
   "codemirror_mode": {
    "name": "ipython",
    "version": 3
   },
   "file_extension": ".py",
   "mimetype": "text/x-python",
   "name": "python",
   "nbconvert_exporter": "python",
   "pygments_lexer": "ipython3",
   "version": "3.7.1"
  }
 },
 "nbformat": 4,
 "nbformat_minor": 2
}
